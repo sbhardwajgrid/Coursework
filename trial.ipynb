{
 "cells": [
  {
   "cell_type": "code",
   "execution_count": 2,
   "metadata": {},
   "outputs": [],
   "source": [
    "import os"
   ]
  },
  {
   "cell_type": "code",
   "execution_count": 9,
   "metadata": {},
   "outputs": [
    {
     "name": "stdout",
     "output_type": "stream",
     "text": [
      "['CertificateOfCompletion_OWASP Top 10.pdf', 'api-security-fundamentals.png', 'mlfortsa_datacamp.pdf', 'arima_datacamp.pdf', 'manipulatingtsa_datacamp.pdf', 'tsskill_datacamp.pdf', 'APIsecCourseCertificate20240403-31-v4bwle.pdf', 'introfinance_datacamp.pdf', 'visualisetsa_datacamp.pdf', 'intronlp_datacamp.pdf', 'big_data_hadoop_spark.pdf', 'Shaurya Bhardwaj - Data Cleaning.png', 'llmconcepts_datacamp.pdf', 'eda_datacamp.pdf', 'CertificateOfCompletion_OWASP Top 10 (1).pdf', 'embeddings_datacamp.pdf', 'just_fax.pages', 'tsa_datacamp.pdf', 'introportfolio_datacamp.pdf', 'Shaurya Bhardwaj - Intermediate Machine Learning.png']\n"
     ]
    }
   ],
   "source": [
    "print(os.listdir(\"docs\"))"
   ]
  },
  {
   "cell_type": "code",
   "execution_count": 10,
   "metadata": {},
   "outputs": [],
   "source": [
    "import re"
   ]
  },
  {
   "cell_type": "code",
   "execution_count": null,
   "metadata": {},
   "outputs": [],
   "source": [
    "pattern = r'^(outputs\\/zero123-sai\\/\\[64, 128, 256\\]_\\.png@)(.*)$'\n",
    "\n",
    "strings = [\"outputs/zero123-sai/[64, 128, 256]_{id}.png@new_value/save/it100-export\",\n",
    "           \"outputs/zero123-sai/[64, 128, 256]_{id}.png@new_value/save/it100-export\"]\n",
    "\n",
    "\n",
    "\n"
   ]
  }
 ],
 "metadata": {
  "kernelspec": {
   "display_name": "coursework_env",
   "language": "python",
   "name": "python3"
  },
  "language_info": {
   "codemirror_mode": {
    "name": "ipython",
    "version": 3
   },
   "file_extension": ".py",
   "mimetype": "text/x-python",
   "name": "python",
   "nbconvert_exporter": "python",
   "pygments_lexer": "ipython3",
   "version": "3.12.1"
  }
 },
 "nbformat": 4,
 "nbformat_minor": 2
}
