{
  "cells": [
    {
      "cell_type": "markdown",
      "metadata": {
        "id": "R7x9U10HFYql"
      },
      "source": [
        "# NetworkX"
      ]
    },
    {
      "cell_type": "markdown",
      "metadata": {
        "id": "5B_pkfr8FYqm"
      },
      "source": [
        "NetworkX is a Python language software package for the creation, manipulation, and study of the structure, dynamics, and function of complex networks.\n",
        "\n",
        "With NetworkX you can load and store networks in standard and nonstandard data formats, generate many types of random and classic networks, analyze network structure, build network models, design new network algorithms, draw networks, and much more.\n",
        "\n",
        "Library documentation: <a>https://networkx.github.io/</a>"
      ]
    },
    {
      "cell_type": "code",
      "execution_count": 1,
      "metadata": {
        "id": "VIYXtLS4FYqn"
      },
      "outputs": [],
      "source": [
        "import networkx as nx\n",
        "G = nx.Graph()"
      ]
    },
    {
      "cell_type": "code",
      "execution_count": 2,
      "metadata": {
        "id": "-IXmVscLFYqo"
      },
      "outputs": [],
      "source": [
        "# basic add nodes\n",
        "G.add_node(1)\n",
        "G.add_nodes_from([2, 3])"
      ]
    },
    {
      "cell_type": "code",
      "execution_count": 9,
      "metadata": {},
      "outputs": [
        {
          "data": {
            "text/plain": [
              "{}"
            ]
          },
          "execution_count": 9,
          "metadata": {},
          "output_type": "execute_result"
        }
      ],
      "source": [
        "G.nodes()[1]"
      ]
    },
    {
      "cell_type": "code",
      "execution_count": 3,
      "metadata": {
        "id": "91fyCtiJFYqo"
      },
      "outputs": [],
      "source": [
        "# add a group of nodes at once\n",
        "H = nx.path_graph(10)\n",
        "G.add_nodes_from(H)"
      ]
    },
    {
      "cell_type": "code",
      "execution_count": null,
      "metadata": {
        "id": "3zMSwZGOFYqo"
      },
      "outputs": [],
      "source": [
        "# add another graph itself as a node\n",
        "G.add_node(H)"
      ]
    },
    {
      "cell_type": "code",
      "execution_count": null,
      "metadata": {
        "id": "mA4e3h1kFYqo"
      },
      "outputs": [],
      "source": [
        "# add edges using similar methods\n",
        "G.add_edge(1, 2)\n",
        "e = (2, 3)\n",
        "G.add_edge(*e)\n",
        "G.add_edges_from([(1, 2), (1, 3)])\n",
        "G.add_edges_from(H.edges())"
      ]
    },
    {
      "cell_type": "code",
      "execution_count": null,
      "metadata": {
        "id": "jKJ04pEmFYqo"
      },
      "outputs": [],
      "source": [
        "# can also remove or clear\n",
        "G.remove_node(H)\n",
        "G.clear()"
      ]
    },
    {
      "cell_type": "code",
      "execution_count": null,
      "metadata": {
        "id": "1z4mU6I5FYqp"
      },
      "outputs": [],
      "source": [
        "# repeats are ignored\n",
        "G.add_edges_from([(1,2),(1,3)])\n",
        "G.add_node(1)\n",
        "G.add_edge(1,2)\n",
        "G.add_node('spam')       # adds node \"spam\"\n",
        "G.add_nodes_from('spam') # adds 4 nodes: 's', 'p', 'a', 'm'"
      ]
    },
    {
      "cell_type": "code",
      "execution_count": null,
      "metadata": {
        "id": "ybSJp8j4FYqp",
        "outputId": "c9886f99-daf7-4574-a087-59d992311d49"
      },
      "outputs": [
        {
          "data": {
            "text/plain": [
              "(8, 2)"
            ]
          },
          "execution_count": 8,
          "metadata": {},
          "output_type": "execute_result"
        }
      ],
      "source": [
        "# get the number of nodes and edges\n",
        "G.number_of_nodes(), G.number_of_edges()"
      ]
    },
    {
      "cell_type": "code",
      "execution_count": null,
      "metadata": {
        "id": "5hJp2BsKFYqp",
        "outputId": "178d6237-7e3d-4b71-c5e3-a5f5bc45cc50"
      },
      "outputs": [
        {
          "data": {
            "text/plain": [
              "{2: {}, 3: {}}"
            ]
          },
          "execution_count": 9,
          "metadata": {},
          "output_type": "execute_result"
        }
      ],
      "source": [
        "# access graph edges\n",
        "G[1]"
      ]
    },
    {
      "cell_type": "code",
      "execution_count": null,
      "metadata": {
        "id": "zecbv6sKFYqp",
        "outputId": "23aa21ef-e8f1-49ac-ef34-e12aa559c1a1"
      },
      "outputs": [
        {
          "data": {
            "text/plain": [
              "{}"
            ]
          },
          "execution_count": 10,
          "metadata": {},
          "output_type": "execute_result"
        }
      ],
      "source": [
        "G[1][2]"
      ]
    },
    {
      "cell_type": "code",
      "execution_count": null,
      "metadata": {
        "id": "xjcNEicaFYqq"
      },
      "outputs": [],
      "source": [
        "# set an attribute of an edge\n",
        "G.add_edge(1,3)\n",
        "G[1][3]['color'] = 'blue'"
      ]
    },
    {
      "cell_type": "code",
      "execution_count": null,
      "metadata": {
        "id": "q9Mea_WFFYqq",
        "outputId": "3935e984-9335-4e94-8764-fb4e23f73b04"
      },
      "outputs": [
        {
          "name": "stdout",
          "output_type": "stream",
          "text": [
            "(1, 2, 0.125)\n",
            "(2, 1, 0.125)\n",
            "(3, 4, 0.375)\n",
            "(4, 3, 0.375)\n"
          ]
        }
      ],
      "source": [
        "FG = nx.Graph()\n",
        "FG.add_weighted_edges_from([(1, 2, 0.125), (1, 3, 0.75), (2, 4, 1.2), (3, 4, 0.375)])\n",
        "for n, nbrs in FG.adjacency_iter():\n",
        "    for nbr, eattr in nbrs.items():\n",
        "        data = eattr['weight']\n",
        "        if data < 0.5: print('(%d, %d, %.3f)' % (n, nbr, data))"
      ]
    },
    {
      "cell_type": "code",
      "execution_count": null,
      "metadata": {
        "id": "pb_8VQO7FYqq",
        "outputId": "cf380f33-4a94-48ed-c385-839735c0c4bd"
      },
      "outputs": [
        {
          "data": {
            "text/plain": [
              "{'day': 'Friday'}"
            ]
          },
          "execution_count": 13,
          "metadata": {},
          "output_type": "execute_result"
        }
      ],
      "source": [
        "# graph attribte\n",
        "G = nx.Graph(day='Friday')\n",
        "G.graph"
      ]
    },
    {
      "cell_type": "code",
      "execution_count": null,
      "metadata": {
        "id": "M8lSURAzFYqq",
        "outputId": "0078aa79-e9bd-44a0-aefb-a885a76d67a1"
      },
      "outputs": [
        {
          "data": {
            "text/plain": [
              "{'day': 'Monday'}"
            ]
          },
          "execution_count": 14,
          "metadata": {},
          "output_type": "execute_result"
        }
      ],
      "source": [
        "# modifying an attribute\n",
        "G.graph['day'] = 'Monday'\n",
        "G.graph"
      ]
    },
    {
      "cell_type": "code",
      "execution_count": null,
      "metadata": {
        "id": "jz0gikRgFYqq",
        "outputId": "34c03935-09c2-43e1-8c43-fe775e8d9eac"
      },
      "outputs": [
        {
          "data": {
            "text/plain": [
              "[(1, {'room': 714, 'time': '5pm'}), (3, {'time': '2pm'})]"
            ]
          },
          "execution_count": 15,
          "metadata": {},
          "output_type": "execute_result"
        }
      ],
      "source": [
        "# node attributes\n",
        "G.add_node(1, time='5pm')\n",
        "G.add_nodes_from([3], time='2pm')\n",
        "G.node[1]['room'] = 714\n",
        "G.nodes(data=True)"
      ]
    },
    {
      "cell_type": "code",
      "execution_count": null,
      "metadata": {
        "id": "aapJooVsFYqq"
      },
      "outputs": [],
      "source": [
        "# edge attributes (weight is a special numeric attribute)\n",
        "G.add_edge(1, 2, weight=4.7)\n",
        "G.add_edges_from([(3, 4), (4, 5)], color='red')\n",
        "G.add_edges_from([(1, 2 ,{'color': 'blue'}), (2, 3, {'weight' :8})])\n",
        "G[1][2]['weight'] = 4.7\n",
        "G.edge[1][2]['weight'] = 4"
      ]
    },
    {
      "cell_type": "code",
      "execution_count": null,
      "metadata": {
        "id": "ZQFcQYe1FYqq",
        "outputId": "5b8218fd-b50f-482e-c8d6-7a87cb7cc4d7"
      },
      "outputs": [
        {
          "data": {
            "text/plain": [
              "0.5"
            ]
          },
          "execution_count": 17,
          "metadata": {},
          "output_type": "execute_result"
        }
      ],
      "source": [
        "# directed graph\n",
        "DG = nx.DiGraph()\n",
        "DG.add_weighted_edges_from([(1, 2 ,0.5), (3, 1, 0.75)])\n",
        "DG.out_degree(1, weight='weight')"
      ]
    },
    {
      "cell_type": "code",
      "execution_count": null,
      "metadata": {
        "id": "8r7hoobNFYqq",
        "outputId": "51a03644-4c49-48be-b302-64d645bd25c4"
      },
      "outputs": [
        {
          "data": {
            "text/plain": [
              "1.25"
            ]
          },
          "execution_count": 18,
          "metadata": {},
          "output_type": "execute_result"
        }
      ],
      "source": [
        "DG.degree(1, weight='weight')"
      ]
    },
    {
      "cell_type": "code",
      "execution_count": null,
      "metadata": {
        "id": "NpqybbqWFYqq",
        "outputId": "c0b1d862-e900-4246-9275-30217ffa9a17"
      },
      "outputs": [
        {
          "data": {
            "text/plain": [
              "[2]"
            ]
          },
          "execution_count": 19,
          "metadata": {},
          "output_type": "execute_result"
        }
      ],
      "source": [
        "DG.successors(1)"
      ]
    },
    {
      "cell_type": "code",
      "execution_count": null,
      "metadata": {
        "id": "gdyZ5b4dFYqr",
        "outputId": "53d3b560-1102-47a7-a9ea-2f5f0beba507"
      },
      "outputs": [
        {
          "data": {
            "text/plain": [
              "[3]"
            ]
          },
          "execution_count": 20,
          "metadata": {},
          "output_type": "execute_result"
        }
      ],
      "source": [
        "DG.predecessors(1)"
      ]
    },
    {
      "cell_type": "code",
      "execution_count": null,
      "metadata": {
        "id": "SErFihdNFYqr"
      },
      "outputs": [],
      "source": [
        "# convert to undirected graph\n",
        "H = nx.Graph(G)"
      ]
    },
    {
      "cell_type": "code",
      "execution_count": null,
      "metadata": {
        "id": "W3g36fw4FYqr",
        "outputId": "39a2c8ab-c5b8-4b4f-ca8d-e1d65b3b2c43"
      },
      "outputs": [
        {
          "data": {
            "image/png": "[encoded data removed]",
            "text/plain": [
              "<matplotlib.figure.Figure at 0x12e9e320>"
            ]
          },
          "metadata": {},
          "output_type": "display_data"
        }
      ],
      "source": [
        "# basic graph drawing capability\n",
        "%matplotlib inline\n",
        "import matplotlib.pyplot as plt\n",
        "nx.draw(G)"
      ]
    }
  ],
  "metadata": {
    "colab": {
      "provenance": []
    },
    "kernelspec": {
      "display_name": "coursework_env",
      "language": "python",
      "name": "python3"
    },
    "language_info": {
      "codemirror_mode": {
        "name": "ipython",
        "version": 3
      },
      "file_extension": ".py",
      "mimetype": "text/x-python",
      "name": "python",
      "nbconvert_exporter": "python",
      "pygments_lexer": "ipython3",
      "version": "3.12.1"
    }
  },
  "nbformat": 4,
  "nbformat_minor": 0
}
